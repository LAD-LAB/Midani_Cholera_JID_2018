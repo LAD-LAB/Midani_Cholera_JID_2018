{
 "cells": [
  {
   "cell_type": "code",
   "execution_count": 1,
   "metadata": {
    "ExecuteTime": {
     "end_time": "2018-04-17T20:22:00.214085Z",
     "start_time": "2018-04-17T20:21:59.205159Z"
    }
   },
   "outputs": [
    {
     "name": "stdout",
     "output_type": "stream",
     "text": [
      "numpy = 1.10.2\n",
      "pandas = 0.22.0\n",
      "scikit-earn = 0.19.1\n",
      "statsmodels = 0.8.0\n"
     ]
    },
    {
     "name": "stderr",
     "output_type": "stream",
     "text": [
      "/Users/firasmidani/local_applications/miniconda2/envs/qiime1/lib/python2.7/site-packages/statsmodels/compat/pandas.py:56: FutureWarning: The pandas.core.datetools module is deprecated and will be removed in a future version. Please use the pandas.tseries module instead.\n",
      "  from pandas.core import datetools\n"
     ]
    }
   ],
   "source": [
    "import numpy as np\n",
    "import pandas as pd\n",
    "import sklearn as skl\n",
    "import statsmodels\n",
    "import statsmodels.api as sm\n",
    "\n",
    "print 'numpy = %s' % np.__version__\n",
    "print 'pandas = %s' % pd.__version__\n",
    "print 'scikit-earn = %s' % skl.__version__\n",
    "print 'statsmodels = %s' % statsmodels.__version__"
   ]
  },
  {
   "cell_type": "code",
   "execution_count": 2,
   "metadata": {
    "ExecuteTime": {
     "end_time": "2018-04-17T20:22:00.350530Z",
     "start_time": "2018-04-17T20:22:00.216852Z"
    }
   },
   "outputs": [
    {
     "name": "stdout",
     "output_type": "stream",
     "text": [
      "total 5672\r\n",
      "-rw-r--r--  1 firasmidani  staff   3.9K Feb 15 22:08 auc_scores.txt\r\n",
      "-rw-r--r--  1 firasmidani  staff   2.2M Feb 15 22:08 coefficients.txt\r\n",
      "-rw-r--r--  1 firasmidani  staff   563K Feb 15 22:08 decision_scores.txt\r\n",
      "-rw-r--r--  1 firasmidani  staff    53K Feb 15 22:08 features.txt\r\n"
     ]
    }
   ],
   "source": [
    "!ls -lh ../generate_data/output_data/S100_cv0_59024160/"
   ]
  },
  {
   "cell_type": "code",
   "execution_count": 3,
   "metadata": {
    "ExecuteTime": {
     "end_time": "2018-04-17T20:22:00.406770Z",
     "start_time": "2018-04-17T20:22:00.352648Z"
    },
    "collapsed": true
   },
   "outputs": [],
   "source": [
    "def txt_to_df(filename,header=0):\n",
    "    return pd.read_csv(filename,sep='\\t',header=header,index_col=0)\n",
    "\n",
    "def getSummaryStatistics(otu,biom_df,labels_df):\n",
    "\n",
    "    # split cohort\n",
    "    subjects_1 = labels_df[labels_df.color==1].index;\n",
    "    subjects_0 = labels_df[labels_df.color==0].index;\n",
    "    \n",
    "    # compute mean relative abundnace\n",
    "    mean =  biom_df.loc[:,otu].mean()\n",
    "    mean_0 = biom_df.loc[subjects_0,otu].mean()\n",
    "    mean_1 =  biom_df.loc[subjects_1,otu].mean()\n",
    "    \n",
    "    # compute log ratio of mean relative abundance with pseudocoutn\n",
    "    mlr = np.log10((mean_1+1e-6)/(mean_0+1e-6))\n",
    "\n",
    "    # compute prevalence (number of individuals)\n",
    "    prev = (np.sum(biom_df.loc[:,otu]>0))\n",
    "    prev_0 = (np.sum(biom_df.loc[subjects_0,otu]>0))\n",
    "    prev_1 = (np.sum(biom_df.loc[subjects_1,otu]>0))\n",
    "    \n",
    "    \n",
    "    # compute prevalence (percent of individuals)\n",
    "    pr = float(prev)/biom_df.shape[0]\n",
    "    pr_0 = float(prev_0)/len(subjects_0); \n",
    "    pr_1 = float(prev_1)/len(subjects_1); \n",
    "    \n",
    "    # compute log ratio of prevalence with pseudocount\n",
    "    plr = np.log10((float(prev_1+1)/len(subjects_1))/(float(prev_0+1)/len(subjects_0)))\n",
    "    \n",
    "    # put it all in a pandas.DataFrame\n",
    "    df = pd.DataFrame(index = ['mean','mean_0','mean_1','mlr',\n",
    "                               'prev','prev_0','prev_1','plr'],\n",
    "                               columns = [otu])\n",
    "    df.loc[:,otu] = [mean,mean_0,mean_1,mlr,pr,pr_0,pr_1,plr]\n",
    "     \n",
    "    return df\n",
    "\n",
    "def normalize(df):\n",
    "    \n",
    "    from sklearn.preprocessing import StandardScaler\n",
    "\n",
    "    scaler = skl.preprocessing.StandardScaler()\n",
    "    scaler = scaler.fit(df)\n",
    "    df = pd.DataFrame(data=scaler.transform(df),index=df.index,columns=df.keys())\n",
    "    \n",
    "    return df\n",
    "\n",
    "def log_transform(ii):\n",
    "    \n",
    "    ii += 1e-6\n",
    "    ii = np.log10(ii)\n",
    "    \n",
    "    return ii"
   ]
  },
  {
   "cell_type": "markdown",
   "metadata": {},
   "source": [
    "# Import data"
   ]
  },
  {
   "cell_type": "code",
   "execution_count": 4,
   "metadata": {
    "ExecuteTime": {
     "end_time": "2018-04-17T20:22:00.733169Z",
     "start_time": "2018-04-17T20:22:00.411864Z"
    }
   },
   "outputs": [
    {
     "name": "stdout",
     "output_type": "stream",
     "text": [
      "(501, 1)\n",
      "(501, 1)\n",
      "(501, 501)\n",
      "\n",
      "(76, 4181)\n",
      "(76, 1)\n"
     ]
    }
   ],
   "source": [
    "# import microbiota model results\n",
    "parent_path = '../generate_data/output_data/S100_cv0_59024160/'\n",
    "\n",
    "features_df = txt_to_df('%s/features.txt' % parent_path); \n",
    "aucs_df = txt_to_df('%s/auc_scores.txt' % parent_path,[0,1]); \n",
    "coef_df = txt_to_df('%s/coefficients.txt' % parent_path); \n",
    "\n",
    "print features_df.shape\n",
    "print aucs_df.shape\n",
    "print coef_df.shape\n",
    "print \n",
    "\n",
    "# import otu and outcomes tables\n",
    "parent_path = '../generate_data/input_data/suscpetibility/'\n",
    "biom_df = txt_to_df('%s/otus.ygbr.day.2.txt' % parent_path); \n",
    "labels_df = txt_to_df('%s/outcomes.ygbr.day.2.txt' % parent_path);\n",
    "\n",
    "print biom_df.shape\n",
    "print labels_df.shape"
   ]
  },
  {
   "cell_type": "markdown",
   "metadata": {},
   "source": [
    "# Clean up data"
   ]
  },
  {
   "cell_type": "code",
   "execution_count": 5,
   "metadata": {
    "ExecuteTime": {
     "end_time": "2018-04-17T20:22:00.757563Z",
     "start_time": "2018-04-17T20:22:00.735407Z"
    }
   },
   "outputs": [
    {
     "name": "stdout",
     "output_type": "stream",
     "text": [
      "(76, 100)\n"
     ]
    }
   ],
   "source": [
    "## grab top 100 OTUs\n",
    "otus_df = features_df.loc[range(1,101)]\n",
    "otus_df = otus_df.reset_index().set_index('Feature')\n",
    "otus_df.head()\n",
    "\n",
    "## grab top 100 OTU mdoel coefficients\n",
    "coef_100 = pd.DataFrame(coef_df.loc[:,'100_f'])\n",
    "coef_100 = coef_100[coef_100.any(1)]\n",
    "coef_100 = coef_100.sort_values(['100_f'])\n",
    "\n",
    "## subset biom table for top 100 OTUs\n",
    "biom_df = biom_df.loc[:,otus_df.index]; print biom_df.shape"
   ]
  },
  {
   "cell_type": "markdown",
   "metadata": {},
   "source": [
    "# add OTU model coefficients"
   ]
  },
  {
   "cell_type": "code",
   "execution_count": 6,
   "metadata": {
    "ExecuteTime": {
     "end_time": "2018-04-17T20:22:00.853319Z",
     "start_time": "2018-04-17T20:22:00.767354Z"
    },
    "collapsed": true
   },
   "outputs": [],
   "source": [
    "summary_df = pd.DataFrame(index=otus_df.index,\n",
    "                          columns=['rank','coef','abs_coef'])\n",
    "\n",
    "for otu in summary_df.index:\n",
    "    \n",
    "    summary_df.loc[otu,'rank'] = otus_df.loc[otu,'Rank']\n",
    "    summary_df.loc[otu,'coef'] = coef_100.loc[otu,'100_f']\n",
    "    summary_df.loc[otu,'abs_coef'] = np.abs(coef_100.loc[otu,'100_f'])"
   ]
  },
  {
   "cell_type": "markdown",
   "metadata": {},
   "source": [
    "# add OTU summary statistics"
   ]
  },
  {
   "cell_type": "code",
   "execution_count": 7,
   "metadata": {
    "ExecuteTime": {
     "end_time": "2018-04-17T20:22:01.989148Z",
     "start_time": "2018-04-17T20:22:00.858421Z"
    },
    "collapsed": true
   },
   "outputs": [],
   "source": [
    "stats_df = pd.DataFrame(index=otus_df.index,\n",
    "                        columns=['mean','mean_0','mean_1','mlr',\n",
    "                                 'prev','prev_0','prev_1','plr'])\n",
    "\n",
    "for otu in stats_df.index:\n",
    "    \n",
    "    df = getSummaryStatistics(otu,biom_df,labels_df)\n",
    "    \n",
    "    stats_df.loc[otu,df.index] = np.ravel(df.values)"
   ]
  },
  {
   "cell_type": "markdown",
   "metadata": {},
   "source": [
    "# delineate OU taxonomy"
   ]
  },
  {
   "cell_type": "code",
   "execution_count": 8,
   "metadata": {
    "ExecuteTime": {
     "end_time": "2018-04-17T20:22:02.213444Z",
     "start_time": "2018-04-17T20:22:01.994118Z"
    },
    "collapsed": true
   },
   "outputs": [],
   "source": [
    "taxa_df = pd.DataFrame(index=otus_df.index,\n",
    "                       columns=['kingdom','phylum','class','order',\n",
    "                                'family','genus','species','otu_id'])\n",
    "\n",
    "for otu in summary_df.index:\n",
    "    \n",
    "    df = pd.DataFrame([ii.split('__')[1] for ii in otu.split(';')],\n",
    "                       index=['kingdom','phylum','class','order',\n",
    "                              'family','genus','species','otu_id'],\n",
    "                       columns=[otu])\n",
    "    \n",
    "    taxa_df.loc[otu,df.index] = np.ravel(df.values)"
   ]
  },
  {
   "cell_type": "markdown",
   "metadata": {},
   "source": [
    "# compute odds ratio"
   ]
  },
  {
   "cell_type": "code",
   "execution_count": 9,
   "metadata": {
    "ExecuteTime": {
     "end_time": "2018-04-17T20:22:03.374916Z",
     "start_time": "2018-04-17T20:22:02.217199Z"
    },
    "code_folding": []
   },
   "outputs": [
    {
     "name": "stdout",
     "output_type": "stream",
     "text": [
      "k__Bacteria;p__Actinobacteria;c__Actinobacteria;o__Actinomycetales;f__Corynebacteriaceae;g__Corynebacterium;s__;otu__282360\n",
      "Optimization terminated successfully.\n",
      "         Current function value: 0.671404\n",
      "         Iterations 4\n",
      "k__Bacteria;p__Firmicutes;c__Clostridia;o__Clostridiales;f__Ruminococcaceae;g__;s__;otu__738351\n",
      "Optimization terminated successfully.\n",
      "         Current function value: 0.667231\n",
      "         Iterations 5\n",
      "k__Bacteria;p__Firmicutes;c__Clostridia;o__Clostridiales;f__Veillonellaceae;g__Dialister;s__;otu__174638\n",
      "Optimization terminated successfully.\n",
      "         Current function value: 0.675816\n",
      "         Iterations 4\n",
      "k__Bacteria;p__Firmicutes;c__Clostridia;o__Clostridiales;f__Clostridiaceae;g__Clostridium;s__;otu__69664\n",
      "Optimization terminated successfully.\n",
      "         Current function value: 0.661712\n",
      "         Iterations 4\n",
      "k__Bacteria;p__Firmicutes;c__Clostridia;o__Clostridiales;f__Clostridiaceae;g__Clostridium;s__;otu__97301\n",
      "Optimization terminated successfully.\n",
      "         Current function value: 0.678148\n",
      "         Iterations 5\n",
      "k__Bacteria;p__Tenericutes;c__Mollicutes;o__RF39;f__;g__;s__;otu__4388068\n",
      "Optimization terminated successfully.\n",
      "         Current function value: 0.679318\n",
      "         Iterations 4\n",
      "k__Bacteria;p__Proteobacteria;c__Gammaproteobacteria;o__Pasteurellales;f__Pasteurellaceae;g__Haemophilus;s__parainfluenzae;otu__4079463\n",
      "Optimization terminated successfully.\n",
      "         Current function value: 0.661933\n",
      "         Iterations 5\n",
      "k__Bacteria;p__Proteobacteria;c__Gammaproteobacteria;o__Pseudomonadales;f__Moraxellaceae;g__Acinetobacter;s__;otu__4449458\n",
      "Optimization terminated successfully.\n",
      "         Current function value: 0.666717\n",
      "         Iterations 5\n",
      "k__Bacteria;p__Firmicutes;c__Clostridia;o__Clostridiales;f__Lachnospiraceae;g__Roseburia;s__;otu__3318103\n",
      "Optimization terminated successfully.\n",
      "         Current function value: 0.641402\n",
      "         Iterations 5\n",
      "k__Bacteria;p__Firmicutes;c__Clostridia;o__Clostridiales;f__Ruminococcaceae;g__;s__;otu__266274\n",
      "Optimization terminated successfully.\n",
      "         Current function value: 0.674973\n",
      "         Iterations 4\n",
      "k__Bacteria;p__Proteobacteria;c__Gammaproteobacteria;o__Enterobacteriales;f__Enterobacteriaceae;g__;s__;otu__3829957\n",
      "Optimization terminated successfully.\n",
      "         Current function value: 0.666412\n",
      "         Iterations 5\n",
      "k__Bacteria;p__Firmicutes;c__Clostridia;o__Clostridiales;f__Ruminococcaceae;g__;s__;otu__179583\n",
      "Optimization terminated successfully.\n",
      "         Current function value: 0.645255\n",
      "         Iterations 4\n",
      "k__Bacteria;p__Firmicutes;c__Clostridia;o__Clostridiales;f__;g__;s__;otu__189610\n",
      "Optimization terminated successfully.\n",
      "         Current function value: 0.601742\n",
      "         Iterations 6\n",
      "k__Bacteria;p__Firmicutes;c__Clostridia;o__Clostridiales;f__Lachnospiraceae;g__Blautia;s__;otu__190991\n",
      "Optimization terminated successfully.\n",
      "         Current function value: 0.652206\n",
      "         Iterations 5\n",
      "k__Bacteria;p__Firmicutes;c__Clostridia;o__Clostridiales;f__Veillonellaceae;g__Dialister;s__;otu__4326870\n",
      "Optimization terminated successfully.\n",
      "         Current function value: 0.622606\n",
      "         Iterations 6\n",
      "k__Bacteria;p__Firmicutes;c__Clostridia;o__Clostridiales;f__Ruminococcaceae;g__;s__;otu__189760\n",
      "Optimization terminated successfully.\n",
      "         Current function value: 0.644905\n",
      "         Iterations 5\n",
      "k__Bacteria;p__Firmicutes;c__Clostridia;o__Clostridiales;f__Ruminococcaceae;g__;s__;otu__4315782\n",
      "Optimization terminated successfully.\n",
      "         Current function value: 0.650410\n",
      "         Iterations 5\n",
      "k__Bacteria;p__Firmicutes;c__Clostridia;o__Clostridiales;f__Ruminococcaceae;g__;s__;otu__3236435\n",
      "Optimization terminated successfully.\n",
      "         Current function value: 0.650484\n",
      "         Iterations 5\n",
      "k__Bacteria;p__Proteobacteria;c__Gammaproteobacteria;o__Enterobacteriales;f__Enterobacteriaceae;g__;s__;otu__581021\n",
      "Optimization terminated successfully.\n",
      "         Current function value: 0.659947\n",
      "         Iterations 5\n",
      "k__Bacteria;p__Firmicutes;c__Clostridia;o__Clostridiales;f__Lachnospiraceae;g__;s__;otu__572254\n",
      "Optimization terminated successfully.\n",
      "         Current function value: 0.673040\n",
      "         Iterations 5\n",
      "k__Bacteria;p__Proteobacteria;c__Gammaproteobacteria;o__Enterobacteriales;f__Enterobacteriaceae;g__;s__;otu__782953\n",
      "Optimization terminated successfully.\n",
      "         Current function value: 0.671680\n",
      "         Iterations 5\n",
      "k__Bacteria;p__Spirochaetes;c__Spirochaetes;o__Spirochaetales;f__Spirochaetaceae;g__Treponema;s__;otu__338950\n",
      "Optimization terminated successfully.\n",
      "         Current function value: 0.667774\n",
      "         Iterations 5\n",
      "k__Bacteria;p__Firmicutes;c__Clostridia;o__Clostridiales;f__;g__;s__;otu__190980\n",
      "Optimization terminated successfully.\n",
      "         Current function value: 0.657775\n",
      "         Iterations 5\n",
      "k__Bacteria;p__Firmicutes;c__Clostridia;o__Clostridiales;f__;g__;s__;otu__198183\n",
      "Optimization terminated successfully.\n",
      "         Current function value: 0.673836\n",
      "         Iterations 4\n",
      "k__Bacteria;p__Bacteroidetes;c__Bacteroidia;o__Bacteroidales;f__;g__;s__;otu__4310223\n",
      "Optimization terminated successfully.\n",
      "         Current function value: 0.655384\n",
      "         Iterations 4\n",
      "k__Bacteria;p__Proteobacteria;c__Gammaproteobacteria;o__Enterobacteriales;f__Enterobacteriaceae;g__;s__;otu__786708\n",
      "Optimization terminated successfully.\n",
      "         Current function value: 0.691722\n",
      "         Iterations 4\n",
      "k__Bacteria;p__Firmicutes;c__Clostridia;o__Clostridiales;f__Veillonellaceae;g__Dialister;s__;otu__264552\n",
      "Optimization terminated successfully.\n",
      "         Current function value: 0.659613\n",
      "         Iterations 4\n",
      "k__Bacteria;p__Bacteroidetes;c__Bacteroidia;o__Bacteroidales;f__Prevotellaceae;g__Prevotella;s__copri;otu__329693\n",
      "Optimization terminated successfully.\n",
      "         Current function value: 0.653197\n",
      "         Iterations 4\n",
      "k__Bacteria;p__Firmicutes;c__Clostridia;o__Clostridiales;f__Clostridiaceae;g__;s__;otu__2157225\n",
      "Optimization terminated successfully.\n",
      "         Current function value: 0.659109\n",
      "         Iterations 4\n",
      "k__Bacteria;p__Firmicutes;c__Clostridia;o__Clostridiales;f__Lachnospiraceae;g__;s__;otu__4329132\n",
      "Optimization terminated successfully.\n",
      "         Current function value: 0.664688\n",
      "         Iterations 5\n",
      "k__Bacteria;p__Proteobacteria;c__Gammaproteobacteria;o__Pseudomonadales;f__Pseudomonadaceae;g__Pseudomonas;s__;otu__557974\n",
      "Optimization terminated successfully.\n",
      "         Current function value: 0.678092\n",
      "         Iterations 4\n",
      "k__Bacteria;p__Firmicutes;c__Bacilli;o__Lactobacillales;f__Lactobacillaceae;g__Lactobacillus;s__;otu__134726\n",
      "Optimization terminated successfully.\n",
      "         Current function value: 0.670472\n",
      "         Iterations 5\n",
      "k__Bacteria;p__Firmicutes;c__Clostridia;o__Clostridiales;f__Ruminococcaceae;g__Faecalibacterium;s__prausnitzii;otu__181422\n",
      "Optimization terminated successfully.\n",
      "         Current function value: 0.655907\n",
      "         Iterations 4\n",
      "k__Bacteria;p__Bacteroidetes;c__Bacteroidia;o__Bacteroidales;f__Prevotellaceae;g__Prevotella;s__;otu__227285\n",
      "Optimization terminated successfully.\n",
      "         Current function value: 0.669469\n",
      "         Iterations 5\n",
      "k__Bacteria;p__Bacteroidetes;c__Bacteroidia;o__Bacteroidales;f__Prevotellaceae;g__Prevotella;s__stercorea;otu__4307092\n",
      "Optimization terminated successfully.\n",
      "         Current function value: 0.674214\n",
      "         Iterations 4\n",
      "k__Bacteria;p__Firmicutes;c__Clostridia;o__Clostridiales;f__Lachnospiraceae;g__;s__;otu__176726\n",
      "Optimization terminated successfully.\n",
      "         Current function value: 0.646179\n",
      "         Iterations 5\n",
      "k__Bacteria;p__Firmicutes;c__Clostridia;o__Clostridiales;f__Ruminococcaceae;g__Faecalibacterium;s__prausnitzii;otu__180572\n",
      "Optimization terminated successfully.\n",
      "         Current function value: 0.654956\n",
      "         Iterations 5\n",
      "k__Bacteria;p__Bacteroidetes;c__Bacteroidia;o__Bacteroidales;f__Prevotellaceae;g__Prevotella;s__copri;otu__292041\n",
      "Optimization terminated successfully.\n",
      "         Current function value: 0.688444\n",
      "         Iterations 4\n",
      "k__Bacteria;p__Fusobacteria;c__Fusobacteriia;o__Fusobacteriales;f__Fusobacteriaceae;g__Fusobacterium;s__;otu__545299\n",
      "Optimization terminated successfully.\n",
      "         Current function value: 0.669408\n",
      "         Iterations 5\n",
      "k__Bacteria;p__Firmicutes;c__Bacilli;o__Lactobacillales;f__Streptococcaceae;g__Lactococcus;s__;otu__1100972\n",
      "Optimization terminated successfully.\n",
      "         Current function value: 0.684339\n",
      "         Iterations 5\n",
      "k__Bacteria;p__Firmicutes;c__Bacilli;o__Lactobacillales;f__Streptococcaceae;g__Streptococcus;s__;otu__3678349\n",
      "Optimization terminated successfully.\n",
      "         Current function value: 0.688865\n",
      "         Iterations 4\n",
      "k__Bacteria;p__Firmicutes;c__Clostridia;o__Clostridiales;f__Ruminococcaceae;g__Faecalibacterium;s__prausnitzii;otu__299837\n",
      "Optimization terminated successfully.\n",
      "         Current function value: 0.649993\n",
      "         Iterations 5\n",
      "k__Bacteria;p__Tenericutes;c__Mollicutes;o__Mycoplasmatales;f__Mycoplasmataceae;g__Ureaplasma;s__;otu__15806\n",
      "Optimization terminated successfully.\n",
      "         Current function value: 0.670008\n",
      "         Iterations 5\n",
      "k__Bacteria;p__Firmicutes;c__Bacilli;o__Lactobacillales;f__Streptococcaceae;g__Streptococcus;s__;otu__3384047\n",
      "Optimization terminated successfully.\n",
      "         Current function value: 0.685671\n",
      "         Iterations 4\n",
      "k__Bacteria;p__Firmicutes;c__Clostridia;o__Clostridiales;f__Ruminococcaceae;g__Faecalibacterium;s__prausnitzii;otu__340219\n",
      "Optimization terminated successfully.\n",
      "         Current function value: 0.688132\n",
      "         Iterations 4\n",
      "k__Bacteria;p__Firmicutes;c__Clostridia;o__Clostridiales;f__Lachnospiraceae;g__Blautia;s__;otu__299302\n",
      "Optimization terminated successfully.\n",
      "         Current function value: 0.686793\n",
      "         Iterations 4\n",
      "k__Bacteria;p__Firmicutes;c__Clostridia;o__Clostridiales;f__Lachnospiraceae;g__;s__;otu__4331782\n",
      "Optimization terminated successfully.\n",
      "         Current function value: 0.660397\n",
      "         Iterations 5\n",
      "k__Bacteria;p__Firmicutes;c__Erysipelotrichi;o__Erysipelotrichales;f__Erysipelotrichaceae;g__Bulleidia;s__;otu__851824\n",
      "Optimization terminated successfully.\n",
      "         Current function value: 0.685670\n",
      "         Iterations 4\n",
      "k__Bacteria;p__Firmicutes;c__Clostridia;o__Clostridiales;f__Ruminococcaceae;g__;s__;otu__190490\n",
      "Optimization terminated successfully.\n",
      "         Current function value: 0.667292\n",
      "         Iterations 5\n",
      "k__Bacteria;p__Firmicutes;c__Bacilli;o__Lactobacillales;f__Leuconostocaceae;g__Weissella;s__cibaria;otu__64384\n",
      "Optimization terminated successfully.\n",
      "         Current function value: 0.649439\n",
      "         Iterations 4\n",
      "k__Bacteria;p__Bacteroidetes;c__Bacteroidia;o__Bacteroidales;f__Prevotellaceae;g__Prevotella;s__copri;otu__292921\n",
      "Optimization terminated successfully.\n",
      "         Current function value: 0.688943\n",
      "         Iterations 4\n",
      "k__Bacteria;p__Actinobacteria;c__Actinobacteria;o__Actinomycetales;f__Corynebacteriaceae;g__Corynebacterium;s__;otu__4404731\n",
      "Optimization terminated successfully.\n",
      "         Current function value: 0.662456\n",
      "         Iterations 5\n",
      "k__Bacteria;p__Firmicutes;c__Clostridia;o__Clostridiales;f__Lachnospiraceae;g__;s__;otu__194824\n",
      "Optimization terminated successfully.\n",
      "         Current function value: 0.672663\n",
      "         Iterations 5\n",
      "k__Bacteria;p__Firmicutes;c__Clostridia;o__Clostridiales;f__[Tissierellaceae];g__Peptoniphilus;s__;otu__14279\n",
      "Optimization terminated successfully.\n",
      "         Current function value: 0.669856\n",
      "         Iterations 5\n",
      "k__Bacteria;p__Firmicutes;c__Clostridia;o__Clostridiales;f__Lachnospiraceae;g__;s__;otu__4368484\n",
      "Optimization terminated successfully.\n",
      "         Current function value: 0.536913\n",
      "         Iterations 7\n",
      "k__Bacteria;p__Firmicutes;c__Clostridia;o__Clostridiales;f__;g__;s__;otu__4334844\n",
      "Optimization terminated successfully.\n",
      "         Current function value: 0.678260\n",
      "         Iterations 4\n",
      "k__Bacteria;p__Firmicutes;c__Clostridia;o__Clostridiales;f__;g__;s__;otu__2714942\n",
      "Optimization terminated successfully.\n",
      "         Current function value: 0.664607\n",
      "         Iterations 5\n",
      "k__Bacteria;p__Firmicutes;c__Clostridia;o__Clostridiales;f__Ruminococcaceae;g__Faecalibacterium;s__prausnitzii;otu__199430\n",
      "Optimization terminated successfully.\n",
      "         Current function value: 0.691746\n",
      "         Iterations 3\n",
      "k__Bacteria;p__Firmicutes;c__Clostridia;o__Clostridiales;f__;g__;s__;otu__178420\n",
      "Optimization terminated successfully.\n",
      "         Current function value: 0.618893\n",
      "         Iterations 6\n",
      "k__Bacteria;p__Firmicutes;c__Clostridia;o__Clostridiales;f__Lachnospiraceae;g__;s__;otu__194733\n",
      "Optimization terminated successfully.\n",
      "         Current function value: 0.650202\n",
      "         Iterations 5\n",
      "k__Bacteria;p__Firmicutes;c__Clostridia;o__Clostridiales;f__;g__;s__;otu__176077\n",
      "Optimization terminated successfully.\n",
      "         Current function value: 0.679239\n",
      "         Iterations 4\n",
      "k__Bacteria;p__Firmicutes;c__Clostridia;o__Clostridiales;f__;g__;s__;otu__198422\n",
      "Optimization terminated successfully.\n",
      "         Current function value: 0.681050\n",
      "         Iterations 4\n",
      "k__Bacteria;p__Firmicutes;c__Clostridia;o__Clostridiales;f__Ruminococcaceae;g__;s__;otu__182383\n",
      "Optimization terminated successfully.\n",
      "         Current function value: 0.671761\n",
      "         Iterations 5\n",
      "k__Bacteria;p__Proteobacteria;c__Gammaproteobacteria;o__Enterobacteriales;f__Enterobacteriaceae;g__;s__;otu__91962\n",
      "Optimization terminated successfully.\n",
      "         Current function value: 0.691779\n",
      "         Iterations 4\n",
      "k__Bacteria;p__Firmicutes;c__Bacilli;o__Gemellales;f__Gemellaceae;g__;s__;otu__4446902\n",
      "Optimization terminated successfully.\n",
      "         Current function value: 0.684075\n",
      "         Iterations 4\n",
      "k__Bacteria;p__Bacteroidetes;c__Bacteroidia;o__Bacteroidales;f__Prevotellaceae;g__Prevotella;s__copri;otu__180825\n",
      "Optimization terminated successfully.\n",
      "         Current function value: 0.679135\n",
      "         Iterations 4\n",
      "k__Bacteria;p__Bacteroidetes;c__Bacteroidia;o__Bacteroidales;f__Prevotellaceae;g__Prevotella;s__;otu__1028283\n",
      "Optimization terminated successfully.\n",
      "         Current function value: 0.673007\n",
      "         Iterations 5\n",
      "k__Bacteria;p__Firmicutes;c__Clostridia;o__Clostridiales;f__Lachnospiraceae;g__Coprococcus;s__;otu__352747\n",
      "Optimization terminated successfully.\n",
      "         Current function value: 0.674203\n",
      "         Iterations 4\n",
      "k__Bacteria;p__Firmicutes;c__Clostridia;o__Clostridiales;f__Ruminococcaceae;g__;s__;otu__288651\n",
      "Optimization terminated successfully.\n",
      "         Current function value: 0.689320\n",
      "         Iterations 4\n",
      "k__Bacteria;p__Firmicutes;c__Clostridia;o__Clostridiales;f__Lachnospiraceae;g__;s__;otu__2341726\n",
      "Optimization terminated successfully.\n",
      "         Current function value: 0.668963\n",
      "         Iterations 5\n",
      "k__Bacteria;p__Firmicutes;c__Clostridia;o__Clostridiales;f__;g__;s__;otu__593422\n",
      "Optimization terminated successfully.\n",
      "         Current function value: 0.680305\n",
      "         Iterations 4\n",
      "k__Bacteria;p__Firmicutes;c__Clostridia;o__Clostridiales;f__Ruminococcaceae;g__;s__;otu__191391\n",
      "Optimization terminated successfully.\n"
     ]
    },
    {
     "name": "stdout",
     "output_type": "stream",
     "text": [
      "         Current function value: 0.650051\n",
      "         Iterations 5\n",
      "k__Bacteria;p__Bacteroidetes;c__Bacteroidia;o__Bacteroidales;f__Bacteroidaceae;g__Bacteroides;s__uniformis;otu__328617\n",
      "Optimization terminated successfully.\n",
      "         Current function value: 0.678717\n",
      "         Iterations 5\n",
      "k__Bacteria;p__Firmicutes;c__Clostridia;o__Clostridiales;f__Ruminococcaceae;g__Ruminococcus;s__;otu__4375860\n",
      "Optimization terminated successfully.\n",
      "         Current function value: 0.689752\n",
      "         Iterations 4\n",
      "k__Bacteria;p__Firmicutes;c__Clostridia;o__Clostridiales;f__;g__;s__;otu__308386\n",
      "Optimization terminated successfully.\n",
      "         Current function value: 0.672168\n",
      "         Iterations 4\n",
      "k__Bacteria;p__Firmicutes;c__Clostridia;o__Clostridiales;f__Ruminococcaceae;g__Oscillospira;s__;otu__4437359\n",
      "Optimization terminated successfully.\n",
      "         Current function value: 0.683813\n",
      "         Iterations 4\n",
      "k__Bacteria;p__Bacteroidetes;c__Bacteroidia;o__Bacteroidales;f__Prevotellaceae;g__Prevotella;s__;otu__333042\n",
      "Optimization terminated successfully.\n",
      "         Current function value: 0.683970\n",
      "         Iterations 4\n",
      "k__Bacteria;p__Firmicutes;c__Clostridia;o__Clostridiales;f__Ruminococcaceae;g__;s__;otu__4396292\n",
      "Optimization terminated successfully.\n",
      "         Current function value: 0.667039\n",
      "         Iterations 4\n",
      "k__Bacteria;p__Actinobacteria;c__Actinobacteria;o__Actinomycetales;f__Corynebacteriaceae;g__Corynebacterium;s__;otu__1013285\n",
      "Optimization terminated successfully.\n",
      "         Current function value: 0.675374\n",
      "         Iterations 5\n",
      "k__Bacteria;p__Firmicutes;c__Clostridia;o__Clostridiales;f__Ruminococcaceae;g__;s__;otu__196322\n",
      "Optimization terminated successfully.\n",
      "         Current function value: 0.669788\n",
      "         Iterations 5\n",
      "k__Bacteria;p__Actinobacteria;c__Actinobacteria;o__Actinomycetales;f__Corynebacteriaceae;g__Corynebacterium;s__;otu__128390\n",
      "Optimization terminated successfully.\n",
      "         Current function value: 0.673697\n",
      "         Iterations 4\n",
      "k__Bacteria;p__Firmicutes;c__Clostridia;o__Clostridiales;f__Lachnospiraceae;g__;s__;otu__4383922\n",
      "Optimization terminated successfully.\n",
      "         Current function value: 0.684512\n",
      "         Iterations 4\n",
      "k__Bacteria;p__Firmicutes;c__Clostridia;o__Clostridiales;f__;g__;s__;otu__312509\n",
      "Optimization terminated successfully.\n",
      "         Current function value: 0.637423\n",
      "         Iterations 6\n",
      "k__Bacteria;p__Firmicutes;c__Clostridia;o__Clostridiales;f__Peptostreptococcaceae;g__Peptostreptococcus;s__;otu__4404577\n",
      "Optimization terminated successfully.\n",
      "         Current function value: 0.689950\n",
      "         Iterations 4\n",
      "k__Bacteria;p__Firmicutes;c__Clostridia;o__Clostridiales;f__Lachnospiraceae;g__;s__;otu__366161\n",
      "Optimization terminated successfully.\n",
      "         Current function value: 0.684115\n",
      "         Iterations 4\n",
      "k__Bacteria;p__Firmicutes;c__Clostridia;o__Clostridiales;f__Lachnospiraceae;g__Blautia;s__;otu__196724\n",
      "Optimization terminated successfully.\n",
      "         Current function value: 0.688263\n",
      "         Iterations 4\n",
      "k__Bacteria;p__Firmicutes;c__Clostridia;o__Clostridiales;f__Lachnospiraceae;g__Coprococcus;s__;otu__194557\n",
      "Optimization terminated successfully.\n",
      "         Current function value: 0.672489\n",
      "         Iterations 5\n",
      "k__Bacteria;p__Firmicutes;c__Clostridia;o__Clostridiales;f__Ruminococcaceae;g__;s__;otu__291266\n",
      "Optimization terminated successfully.\n",
      "         Current function value: 0.671950\n",
      "         Iterations 4\n",
      "k__Bacteria;p__Firmicutes;c__Clostridia;o__Clostridiales;f__[Tissierellaceae];g__1-68;s__;otu__505541\n",
      "Optimization terminated successfully.\n",
      "         Current function value: 0.685439\n",
      "         Iterations 4\n",
      "k__Bacteria;p__Firmicutes;c__Clostridia;o__Clostridiales;f__;g__;s__;otu__182073\n",
      "Optimization terminated successfully.\n",
      "         Current function value: 0.659176\n",
      "         Iterations 5\n",
      "k__Bacteria;p__Firmicutes;c__Clostridia;o__Clostridiales;f__Lachnospiraceae;g__;s__;otu__173917\n",
      "Optimization terminated successfully.\n",
      "         Current function value: 0.690491\n",
      "         Iterations 4\n",
      "k__Bacteria;p__Proteobacteria;c__Gammaproteobacteria;o__Enterobacteriales;f__Enterobacteriaceae;g__;s__;otu__4376230\n",
      "Optimization terminated successfully.\n",
      "         Current function value: 0.680931\n",
      "         Iterations 4\n",
      "k__Bacteria;p__Actinobacteria;c__Actinobacteria;o__Bifidobacteriales;f__Bifidobacteriaceae;g__Gardnerella;s__;otu__137183\n",
      "Optimization terminated successfully.\n",
      "         Current function value: 0.676214\n",
      "         Iterations 4\n",
      "k__Bacteria;p__Bacteroidetes;c__Bacteroidia;o__Bacteroidales;f__Prevotellaceae;g__Prevotella;s__;otu__300859\n",
      "Optimization terminated successfully.\n",
      "         Current function value: 0.676523\n",
      "         Iterations 4\n",
      "k__Bacteria;p__Bacteroidetes;c__Bacteroidia;o__Bacteroidales;f__Bacteroidaceae;g__Bacteroides;s__ovatus;otu__4256470\n",
      "Optimization terminated successfully.\n",
      "         Current function value: 0.692048\n",
      "         Iterations 3\n",
      "k__Bacteria;p__Firmicutes;c__Clostridia;o__Clostridiales;f__;g__;s__;otu__4301141\n",
      "Optimization terminated successfully.\n",
      "         Current function value: 0.662080\n",
      "         Iterations 5\n",
      "k__Bacteria;p__Bacteroidetes;c__Bacteroidia;o__Bacteroidales;f__Prevotellaceae;g__Prevotella;s__;otu__76393\n",
      "Optimization terminated successfully.\n",
      "         Current function value: 0.669250\n",
      "         Iterations 4\n",
      "k__Bacteria;p__Firmicutes;c__Clostridia;o__Clostridiales;f__Lachnospiraceae;g__;s__;otu__199054\n",
      "Optimization terminated successfully.\n",
      "         Current function value: 0.684060\n",
      "         Iterations 4\n",
      "k__Bacteria;p__Firmicutes;c__Clostridia;o__Clostridiales;f__Lachnospiraceae;g__Lachnospira;s__;otu__194727\n",
      "Optimization terminated successfully.\n",
      "         Current function value: 0.692211\n",
      "         Iterations 4\n",
      "k__Bacteria;p__Firmicutes;c__Bacilli;o__Lactobacillales;f__Streptococcaceae;g__Streptococcus;s__;otu__4302049\n",
      "Optimization terminated successfully.\n",
      "         Current function value: 0.676968\n",
      "         Iterations 5\n"
     ]
    }
   ],
   "source": [
    "odds_df = pd.DataFrame(index=otus_df.index,\n",
    "                       columns=['i_coef','i_coef_l','i_coef_h',\n",
    "                                'i_pvalue'])\n",
    "\n",
    "dgmatrix = biom_df.loc[labels_df.index,otus_df.index] # design matrix\n",
    "\n",
    "normalize\n",
    "input_df = dgmatrix\n",
    "input_df = input_df.applymap(log_transform)\n",
    "input_df = normalize(input_df)\n",
    "\n",
    "for otu in dgmatrix.keys():\n",
    "    print otu\n",
    "    \n",
    "    df = input_df.loc[:,otu]\n",
    "    \n",
    "    if len(df.shape)==1:\n",
    "        df = pd.DataFrame(df.values,index=df.index,columns=['abundance'])\n",
    "    \n",
    "    response = np.ravel(labels_df.loc[df.index,:].color);\n",
    "    observed = np.ravel(df.values);\n",
    "    \n",
    "    results = sm.Logit(response,observed).fit()\n",
    "       \n",
    "    odds_df.loc[otu,'i_coef'] = results.params[0]\n",
    "    odds_df.loc[otu,'i_coef_l'] = results.conf_int()[0][0]\n",
    "    odds_df.loc[otu,'i_coef_h'] = results.conf_int()[0][1]\n",
    "    odds_df.loc[otu,'i_pvalue'] = results.pvalues[0]#*100\n",
    "    \n",
    "#     #print results.summary2()"
   ]
  },
  {
   "cell_type": "markdown",
   "metadata": {},
   "source": [
    "# join tables"
   ]
  },
  {
   "cell_type": "code",
   "execution_count": 10,
   "metadata": {
    "ExecuteTime": {
     "end_time": "2018-04-17T20:22:03.397313Z",
     "start_time": "2018-04-17T20:22:03.378498Z"
    },
    "collapsed": true
   },
   "outputs": [],
   "source": [
    "supp_df = summary_df.join(stats_df).join(odds_df).join(taxa_df)\n",
    "supp_df.to_csv('./tables/supp_table_2.txt',sep='\\t',header=True,index=True)"
   ]
  },
  {
   "cell_type": "code",
   "execution_count": 11,
   "metadata": {
    "ExecuteTime": {
     "end_time": "2018-04-17T20:22:03.427523Z",
     "start_time": "2018-04-17T20:22:03.400632Z"
    }
   },
   "outputs": [
    {
     "data": {
      "text/plain": [
       "(100, 23)"
      ]
     },
     "execution_count": 11,
     "metadata": {},
     "output_type": "execute_result"
    }
   ],
   "source": [
    "supp_df.shape"
   ]
  }
 ],
 "metadata": {
  "hide_input": false,
  "kernelspec": {
   "display_name": "Python 2",
   "language": "python",
   "name": "python2"
  },
  "language_info": {
   "codemirror_mode": {
    "name": "ipython",
    "version": 2
   },
   "file_extension": ".py",
   "mimetype": "text/x-python",
   "name": "python",
   "nbconvert_exporter": "python",
   "pygments_lexer": "ipython2",
   "version": "2.7.13"
  },
  "toc": {
   "nav_menu": {},
   "number_sections": true,
   "sideBar": true,
   "skip_h1_title": false,
   "toc_cell": false,
   "toc_position": {},
   "toc_section_display": "block",
   "toc_window_display": false
  }
 },
 "nbformat": 4,
 "nbformat_minor": 2
}
