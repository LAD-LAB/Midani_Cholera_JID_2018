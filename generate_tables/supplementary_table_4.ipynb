{
 "cells": [
  {
   "cell_type": "code",
   "execution_count": 2,
   "metadata": {
    "ExecuteTime": {
     "end_time": "2018-04-17T20:20:14.843023Z",
     "start_time": "2018-04-17T20:20:13.871733Z"
    }
   },
   "outputs": [
    {
     "name": "stdout",
     "output_type": "stream",
     "text": [
      "numpy = 1.10.2\n",
      "pandas = 0.22.0\n",
      "scikit-earn = 0.19.1\n",
      "statsmodels = 0.8.0\n"
     ]
    },
    {
     "name": "stderr",
     "output_type": "stream",
     "text": [
      "/Users/firasmidani/local_applications/miniconda2/envs/qiime1/lib/python2.7/site-packages/statsmodels/compat/pandas.py:56: FutureWarning: The pandas.core.datetools module is deprecated and will be removed in a future version. Please use the pandas.tseries module instead.\n",
      "  from pandas.core import datetools\n"
     ]
    }
   ],
   "source": [
    "import numpy as np\n",
    "import pandas as pd\n",
    "import sklearn as skl\n",
    "import statsmodels\n",
    "import statsmodels.api as sm\n",
    "\n",
    "print 'numpy = %s' % np.__version__\n",
    "print 'pandas = %s' % pd.__version__\n",
    "print 'scikit-earn = %s' % skl.__version__\n",
    "print 'statsmodels = %s' % statsmodels.__version__"
   ]
  },
  {
   "cell_type": "code",
   "execution_count": 3,
   "metadata": {
    "ExecuteTime": {
     "end_time": "2018-04-17T20:20:14.975059Z",
     "start_time": "2018-04-17T20:20:14.846094Z"
    }
   },
   "outputs": [
    {
     "name": "stdout",
     "output_type": "stream",
     "text": [
      "total 1392\r\n",
      "-rw-r--r--  1 firasmidani  staff   1.8K Feb 16 13:16 auc_scores.txt\r\n",
      "-rw-r--r--  1 firasmidani  staff   456K Feb 16 13:16 coefficients.txt\r\n",
      "-rw-r--r--  1 firasmidani  staff   211K Feb 16 13:16 decision_scores.txt\r\n",
      "-rw-r--r--  1 firasmidani  staff    23K Feb 16 13:16 features.txt\r\n"
     ]
    }
   ],
   "source": [
    "!ls -lh ../generate_data/output_data/O100_cv0_10991483/"
   ]
  },
  {
   "cell_type": "code",
   "execution_count": 4,
   "metadata": {
    "ExecuteTime": {
     "end_time": "2018-04-17T20:20:15.075442Z",
     "start_time": "2018-04-17T20:20:14.979187Z"
    },
    "collapsed": true
   },
   "outputs": [],
   "source": [
    "def txt_to_df(filename,header=0):\n",
    "    return pd.read_csv(filename,sep='\\t',header=header,index_col=0)\n",
    "\n",
    "def getSummaryStatistics(otu,biom_df,labels_df):\n",
    "\n",
    "    # split cohort\n",
    "    subjects_1 = labels_df[labels_df.color==1].index;\n",
    "    subjects_0 = labels_df[labels_df.color==0].index;\n",
    "    \n",
    "    # compute mean relative abundnace\n",
    "    mean =  biom_df.loc[:,otu].mean()\n",
    "    mean_0 = biom_df.loc[subjects_0,otu].mean()\n",
    "    mean_1 =  biom_df.loc[subjects_1,otu].mean()\n",
    "    \n",
    "    # compute log ratio of mean relative abundance with pseudocoutn\n",
    "    mlr = np.log10((mean_1+1e-6)/(mean_0+1e-6))\n",
    "\n",
    "    # compute prevalence (number of individuals)\n",
    "    prev = (np.sum(biom_df.loc[:,otu]>0))\n",
    "    prev_0 = (np.sum(biom_df.loc[subjects_0,otu]>0))\n",
    "    prev_1 = (np.sum(biom_df.loc[subjects_1,otu]>0))\n",
    "    \n",
    "    \n",
    "    # compute prevalence (percent of individuals)\n",
    "    pr = float(prev)/biom_df.shape[0]\n",
    "    pr_0 = float(prev_0)/len(subjects_0); \n",
    "    pr_1 = float(prev_1)/len(subjects_1); \n",
    "    \n",
    "    # compute log ratio of prevalence with pseudocount\n",
    "    plr = np.log10((float(prev_1+1)/len(subjects_1))/(float(prev_0+1)/len(subjects_0)))\n",
    "    \n",
    "    # put it all in a pandas.DataFrame\n",
    "    df = pd.DataFrame(index = ['mean','mean_0','mean_1','mlr',\n",
    "                               'prev','prev_0','prev_1','plr'],\n",
    "                               columns = [otu])\n",
    "    df.loc[:,otu] = [mean,mean_0,mean_1,mlr,pr,pr_0,pr_1,plr]\n",
    "     \n",
    "    return df\n",
    "\n",
    "def normalize(df):\n",
    "    \n",
    "    from sklearn.preprocessing import StandardScaler\n",
    "\n",
    "    scaler = skl.preprocessing.StandardScaler()\n",
    "    scaler = scaler.fit(df)\n",
    "    df = pd.DataFrame(data=scaler.transform(df),index=df.index,columns=df.keys())\n",
    "    \n",
    "    return df\n",
    "\n",
    "def log_transform(ii):\n",
    "    \n",
    "    ii += 1e-6\n",
    "    ii = np.log10(ii)\n",
    "    \n",
    "    return ii"
   ]
  },
  {
   "cell_type": "markdown",
   "metadata": {},
   "source": [
    "# Import data"
   ]
  },
  {
   "cell_type": "code",
   "execution_count": 5,
   "metadata": {
    "ExecuteTime": {
     "end_time": "2018-04-17T20:20:15.195863Z",
     "start_time": "2018-04-17T20:20:15.084990Z"
    }
   },
   "outputs": [
    {
     "name": "stdout",
     "output_type": "stream",
     "text": [
      "(226, 1)\n",
      "(226, 1)\n",
      "(226, 226)\n",
      "\n",
      "(82, 551)\n",
      "(58, 1)\n"
     ]
    }
   ],
   "source": [
    "# import microbiota model results\n",
    "parent_path = '../generate_data/output_data/O100_cv0_10991483/'\n",
    "\n",
    "features_df = txt_to_df('%s/features.txt' % parent_path); \n",
    "aucs_df = txt_to_df('%s/auc_scores.txt' % parent_path,[0,1]); \n",
    "coef_df = txt_to_df('%s/coefficients.txt' % parent_path); \n",
    "\n",
    "print features_df.shape\n",
    "print aucs_df.shape\n",
    "print coef_df.shape\n",
    "print \n",
    "\n",
    "# import otu and outcomes tables\n",
    "parent_path = '../generate_data/input_data/onset/'\n",
    "biom_df = txt_to_df('%s/features.S.no.vc.infected.day.2.txt' % parent_path); \n",
    "labels_df = txt_to_df('%s/outcomes.infected.batch.1.day.2.txt' % parent_path);\n",
    "\n",
    "print biom_df.shape\n",
    "print labels_df.shape"
   ]
  },
  {
   "cell_type": "markdown",
   "metadata": {},
   "source": [
    "# Clean up data"
   ]
  },
  {
   "cell_type": "code",
   "execution_count": 6,
   "metadata": {
    "ExecuteTime": {
     "end_time": "2018-04-17T20:20:15.470215Z",
     "start_time": "2018-04-17T20:20:15.438970Z"
    }
   },
   "outputs": [
    {
     "name": "stdout",
     "output_type": "stream",
     "text": [
      "(82, 16)\n"
     ]
    }
   ],
   "source": [
    "## grab top 100 OTUs\n",
    "otus_df = features_df.loc[range(1,17)]\n",
    "otus_df = otus_df.reset_index().set_index('Feature')\n",
    "otus_df.head()\n",
    "\n",
    "## grab top 100 OTU mdoel coefficients\n",
    "coef_100 = pd.DataFrame(coef_df.loc[:,'16_f'])\n",
    "coef_100 = coef_100[coef_100.any(1)]\n",
    "coef_100 = coef_100.sort_values(['16_f'])\n",
    "\n",
    "## subset biom table for top 100 OTUs\n",
    "biom_df = biom_df.loc[:,otus_df.index]; print biom_df.shape"
   ]
  },
  {
   "cell_type": "markdown",
   "metadata": {},
   "source": [
    "# add OTU model coefficients"
   ]
  },
  {
   "cell_type": "code",
   "execution_count": 7,
   "metadata": {
    "ExecuteTime": {
     "end_time": "2018-04-17T20:20:16.112393Z",
     "start_time": "2018-04-17T20:20:16.073123Z"
    }
   },
   "outputs": [
    {
     "name": "stdout",
     "output_type": "stream",
     "text": [
      "(16, 3)\n"
     ]
    }
   ],
   "source": [
    "summary_df = pd.DataFrame(index=otus_df.index,\n",
    "                          columns=['rank','coef','abs_coef'])\n",
    "\n",
    "for otu in summary_df.index:\n",
    "    summary_df.loc[otu,'rank'] = otus_df.loc[otu,'Rank']\n",
    "    summary_df.loc[otu,'coef'] = coef_100.loc[otu,'16_f']\n",
    "    summary_df.loc[otu,'abs_coef'] = np.abs(coef_100.loc[otu,'16_f'])\n",
    "    \n",
    "print summary_df.shape"
   ]
  },
  {
   "cell_type": "markdown",
   "metadata": {},
   "source": [
    "# add OTU summary statistics"
   ]
  },
  {
   "cell_type": "code",
   "execution_count": 8,
   "metadata": {
    "ExecuteTime": {
     "end_time": "2018-04-17T20:20:16.799153Z",
     "start_time": "2018-04-17T20:20:16.608487Z"
    }
   },
   "outputs": [
    {
     "name": "stdout",
     "output_type": "stream",
     "text": [
      "(16, 8)\n"
     ]
    }
   ],
   "source": [
    "stats_df = pd.DataFrame(index=otus_df.index,\n",
    "                        columns=['mean','mean_0','mean_1','mlr',\n",
    "                                 'prev','prev_0','prev_1','plr'])\n",
    "\n",
    "for otu in stats_df.index:\n",
    "    \n",
    "    df = getSummaryStatistics(otu,biom_df,labels_df)\n",
    "    \n",
    "    stats_df.loc[otu,df.index] = np.ravel(df.values)\n",
    "    \n",
    "print stats_df.shape"
   ]
  },
  {
   "cell_type": "markdown",
   "metadata": {},
   "source": [
    "# delineate OU taxonomy"
   ]
  },
  {
   "cell_type": "code",
   "execution_count": 9,
   "metadata": {
    "ExecuteTime": {
     "end_time": "2018-04-17T20:20:17.206625Z",
     "start_time": "2018-04-17T20:20:17.155311Z"
    }
   },
   "outputs": [
    {
     "name": "stdout",
     "output_type": "stream",
     "text": [
      "(16, 7)\n"
     ]
    }
   ],
   "source": [
    "taxa_df = pd.DataFrame(index=otus_df.index,\n",
    "                       columns=['kingdom','phylum','class','order',\n",
    "                                'family','genus','species'])\n",
    "\n",
    "for otu in summary_df.index:\n",
    "    \n",
    "    df = pd.DataFrame([ii.split('__')[1] for ii in otu.split(';')],\n",
    "                       index=['kingdom','phylum','class','order',\n",
    "                              'family','genus','species'],\n",
    "                       columns=[otu])\n",
    "    \n",
    "    taxa_df.loc[otu,df.index] = np.ravel(df.values)\n",
    "    \n",
    "print taxa_df.shape"
   ]
  },
  {
   "cell_type": "markdown",
   "metadata": {},
   "source": [
    "# compute odds ratio"
   ]
  },
  {
   "cell_type": "code",
   "execution_count": 10,
   "metadata": {
    "ExecuteTime": {
     "end_time": "2018-04-17T20:20:17.998579Z",
     "start_time": "2018-04-17T20:20:17.756491Z"
    },
    "code_folding": []
   },
   "outputs": [
    {
     "name": "stdout",
     "output_type": "stream",
     "text": [
      "k__Bacteria;p__Actinobacteria;c__Actinobacteria;o__Bifidobacteriales;f__Bifidobacteriaceae;g__Bifidobacterium;s__bifidum\n",
      "Optimization terminated successfully.\n",
      "         Current function value: 0.578758\n",
      "         Iterations 6\n",
      "k__Bacteria;p__Proteobacteria;c__Gammaproteobacteria;o__Enterobacteriales;f__Enterobacteriaceae;g__Klebsiella;s__\n",
      "Optimization terminated successfully.\n",
      "         Current function value: 0.676617\n",
      "         Iterations 5\n",
      "k__Bacteria;p__Proteobacteria;c__Alphaproteobacteria;o__Rhodobacterales;f__Rhodobacteraceae;g__Paracoccus;s__aminovorans\n",
      "Optimization terminated successfully.\n",
      "         Current function value: 0.637159\n",
      "         Iterations 6\n",
      "k__Bacteria;p__Actinobacteria;c__Actinobacteria;o__Actinomycetales;f__;g__;s__\n",
      "Optimization terminated successfully.\n",
      "         Current function value: 0.676718\n",
      "         Iterations 4\n",
      "k__Bacteria;p__Firmicutes;c__Clostridia;o__Clostridiales;f__Veillonellaceae;g__Megasphaera;s__\n",
      "Optimization terminated successfully.\n",
      "         Current function value: 0.659339\n",
      "         Iterations 5\n",
      "k__Bacteria;p__Actinobacteria;c__Actinobacteria;o__Bifidobacteriales;f__Bifidobacteriaceae;g__;s__\n",
      "Optimization terminated successfully.\n",
      "         Current function value: 0.634156\n",
      "         Iterations 5\n",
      "k__Bacteria;p__Proteobacteria;c__Epsilonproteobacteria;o__Campylobacterales;f__Campylobacteraceae;g__Campylobacter;s__ureolyticus\n",
      "Optimization terminated successfully.\n",
      "         Current function value: 0.692259\n",
      "         Iterations 3\n",
      "k__Bacteria;p__Actinobacteria;c__Actinobacteria;o__Actinomycetales;f__Micrococcaceae;g__Rothia;s__mucilaginosa\n",
      "Optimization terminated successfully.\n",
      "         Current function value: 0.636552\n",
      "         Iterations 5\n",
      "k__Bacteria;p__Proteobacteria;c__Gammaproteobacteria;o__Enterobacteriales;f__Enterobacteriaceae;g__Shigella;s__sonnei\n",
      "Optimization terminated successfully.\n",
      "         Current function value: 0.654374\n",
      "         Iterations 5\n",
      "k__Bacteria;p__Firmicutes;c__Clostridia;o__Clostridiales;f__Ruminococcaceae;g__Faecalibacterium;s__\n",
      "Optimization terminated successfully.\n",
      "         Current function value: 0.683625\n",
      "         Iterations 4\n",
      "k__Bacteria;p__Firmicutes;c__Clostridia;o__Clostridiales;f__Christensenellaceae;g__;s__\n",
      "Optimization terminated successfully.\n",
      "         Current function value: 0.616616\n",
      "         Iterations 5\n",
      "k__Bacteria;p__Firmicutes;c__Bacilli;o__Lactobacillales;f__Streptococcaceae;g__;s__\n",
      "Optimization terminated successfully.\n",
      "         Current function value: 0.615172\n",
      "         Iterations 6\n",
      "k__Bacteria;p__Proteobacteria;c__Gammaproteobacteria;o__Enterobacteriales;f__Enterobacteriaceae;g__Erwinia;s__\n",
      "Optimization terminated successfully.\n",
      "         Current function value: 0.693042\n",
      "         Iterations 3\n",
      "k__Bacteria;p__Firmicutes;c__Bacilli;o__Lactobacillales;f__Streptococcaceae;g__Streptococcus;s__luteciae\n",
      "Optimization terminated successfully.\n",
      "         Current function value: 0.679246\n",
      "         Iterations 4\n",
      "k__Bacteria;p__Firmicutes;c__Clostridia;o__Clostridiales;f__Lachnospiraceae;g__Oribacterium;s__\n",
      "Optimization terminated successfully.\n",
      "         Current function value: 0.665390\n",
      "         Iterations 5\n",
      "k__Bacteria;p__Firmicutes;c__Clostridia;o__Clostridiales;f__Veillonellaceae;g__;s__\n",
      "Optimization terminated successfully.\n",
      "         Current function value: 0.651768\n",
      "         Iterations 5\n",
      "(16, 4)\n"
     ]
    }
   ],
   "source": [
    "odds_df = pd.DataFrame(index=otus_df.index,\n",
    "                       columns=['i_coef','i_coef_l','i_coef_h',\n",
    "                                'i_pvalue'])\n",
    "\n",
    "dgmatrix = biom_df.loc[labels_df.index,otus_df.index] # design matrix\n",
    "\n",
    "normalize\n",
    "input_df = dgmatrix\n",
    "input_df = input_df.applymap(log_transform)\n",
    "input_df = normalize(input_df)\n",
    "\n",
    "for otu in dgmatrix.keys():\n",
    "    print otu\n",
    "    \n",
    "    df = input_df.loc[:,otu]\n",
    "    \n",
    "    if len(df.shape)==1:\n",
    "        df = pd.DataFrame(df.values,index=df.index,columns=['abundance'])\n",
    "    \n",
    "    response = np.ravel(labels_df.loc[df.index,:].color);\n",
    "    observed = np.ravel(df.values);\n",
    "    \n",
    "    results = sm.Logit(response,observed).fit()\n",
    "       \n",
    "    odds_df.loc[otu,'i_coef'] = results.params[0]\n",
    "    odds_df.loc[otu,'i_coef_l'] = results.conf_int()[0][0]\n",
    "    odds_df.loc[otu,'i_coef_h'] = results.conf_int()[0][1]\n",
    "    odds_df.loc[otu,'i_pvalue'] = results.pvalues[0]#*100\n",
    "    \n",
    "print odds_df.shape"
   ]
  },
  {
   "cell_type": "markdown",
   "metadata": {},
   "source": [
    "# join tables"
   ]
  },
  {
   "cell_type": "code",
   "execution_count": 11,
   "metadata": {
    "ExecuteTime": {
     "end_time": "2018-04-17T20:20:20.627180Z",
     "start_time": "2018-04-17T20:20:20.613057Z"
    },
    "collapsed": true
   },
   "outputs": [],
   "source": [
    "supp_df = summary_df.join(stats_df).join(odds_df).join(taxa_df)\n",
    "supp_df.to_csv('./tables/supp_table_4.txt',sep='\\t',header=True,index=True)"
   ]
  },
  {
   "cell_type": "code",
   "execution_count": 12,
   "metadata": {
    "ExecuteTime": {
     "end_time": "2018-04-17T20:20:25.659875Z",
     "start_time": "2018-04-17T20:20:25.643739Z"
    }
   },
   "outputs": [
    {
     "data": {
      "text/plain": [
       "(16, 22)"
      ]
     },
     "execution_count": 12,
     "metadata": {},
     "output_type": "execute_result"
    }
   ],
   "source": [
    "supp_df.shape"
   ]
  }
 ],
 "metadata": {
  "hide_input": false,
  "kernelspec": {
   "display_name": "Python 2",
   "language": "python",
   "name": "python2"
  },
  "language_info": {
   "codemirror_mode": {
    "name": "ipython",
    "version": 2
   },
   "file_extension": ".py",
   "mimetype": "text/x-python",
   "name": "python",
   "nbconvert_exporter": "python",
   "pygments_lexer": "ipython2",
   "version": "2.7.13"
  },
  "toc": {
   "nav_menu": {},
   "number_sections": true,
   "sideBar": true,
   "skip_h1_title": false,
   "toc_cell": false,
   "toc_position": {},
   "toc_section_display": "block",
   "toc_window_display": false
  }
 },
 "nbformat": 4,
 "nbformat_minor": 2
}
