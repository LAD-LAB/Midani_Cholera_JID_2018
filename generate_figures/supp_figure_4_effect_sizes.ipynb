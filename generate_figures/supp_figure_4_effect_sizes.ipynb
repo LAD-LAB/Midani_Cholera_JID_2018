{
 "cells": [
  {
   "cell_type": "markdown",
   "metadata": {},
   "source": [
    "# Import necessary packages"
   ]
  },
  {
   "cell_type": "code",
   "execution_count": 1,
   "metadata": {
    "ExecuteTime": {
     "end_time": "2018-04-18T02:34:03.958055Z",
     "start_time": "2018-04-18T02:34:02.493271Z"
    }
   },
   "outputs": [
    {
     "name": "stdout",
     "output_type": "stream",
     "text": [
      "scipy = 1.0.0\n",
      "numpy = 1.10.2\n",
      "pandas = 0.22.0\n",
      "seaborn = 0.8.0\n",
      "matplotlib = 2.1.1\n"
     ]
    }
   ],
   "source": [
    "import scipy as sc\n",
    "import numpy as np\n",
    "import pandas as pd\n",
    "import seaborn as sns\n",
    "import matplotlib as mpl\n",
    "import matplotlib.pyplot as plt\n",
    "import matplotlib.gridspec as gridspec\n",
    "\n",
    "import scipy.stats as stats\n",
    "\n",
    "print 'scipy = %s' % sc.__version__\n",
    "print 'numpy = %s' % np.__version__\n",
    "print 'pandas = %s' % pd.__version__\n",
    "print 'seaborn = %s' % sns.__version__\n",
    "print 'matplotlib = %s' % mpl.__version__\n",
    "\n",
    "sns.set_style('whitegrid')\n",
    "%matplotlib inline"
   ]
  },
  {
   "cell_type": "markdown",
   "metadata": {},
   "source": [
    "# Import user-defined functions"
   ]
  },
  {
   "cell_type": "code",
   "execution_count": 2,
   "metadata": {
    "ExecuteTime": {
     "end_time": "2018-04-18T02:34:03.989109Z",
     "start_time": "2018-04-18T02:34:03.961366Z"
    },
    "collapsed": true
   },
   "outputs": [],
   "source": [
    "def txt_to_df(filename,header=0):\n",
    "    \n",
    "    return pd.read_csv(filename,sep='\\t',header=header,index_col=0)\n",
    "\n",
    "\n",
    "def shortTaxonomy(series):\n",
    "    '''\n",
    "    given taxonomic classification of an OTU (in pandas.Series),\n",
    "    create a shortname and indicate font style for each component\n",
    "    '''\n",
    "    \n",
    "    series = series.fillna('')\n",
    "    \n",
    "    for level in ['species','genus','family','order','class','phylum']:\n",
    "        \n",
    "        if series[level] != '':\n",
    "            \n",
    "            topLevel = series[level]\n",
    "                        \n",
    "            if level == 'species':\n",
    "                return ['%s %s %s' % (series['genus'],series['species'],series['otu_id']), (1,1)]\n",
    "            elif level == 'genus':\n",
    "                return ['%s sp. %s' % (series[level],series['otu_id']), (1,0)]\n",
    "            else: \n",
    "                return ['%s sp. %s' % (series[level],series['otu_id']), (0,0)]     \n",
    "\n",
    "def pointOutOTU(ax,name,xy,xytext,ha):\n",
    "    \n",
    "    ax.annotate(name,xy=xy,xytext=xytext,\n",
    "                textcoords='data',xycoords='data',\n",
    "                size=16,va=\"center\",ha=ha,\n",
    "                arrowprops=dict(arrowstyle=\"simple\",connectionstyle=\"arc3,rad=0.2\",color='black'))\n"
   ]
  },
  {
   "cell_type": "markdown",
   "metadata": {},
   "source": [
    "# Import tables"
   ]
  },
  {
   "cell_type": "markdown",
   "metadata": {},
   "source": [
    "**Import summary statistics**"
   ]
  },
  {
   "cell_type": "code",
   "execution_count": 3,
   "metadata": {
    "ExecuteTime": {
     "end_time": "2018-04-18T02:34:05.538761Z",
     "start_time": "2018-04-18T02:34:05.509054Z"
    }
   },
   "outputs": [
    {
     "name": "stdout",
     "output_type": "stream",
     "text": [
      "(100, 23)\n"
     ]
    }
   ],
   "source": [
    "filename = '../generate_tables/tables/supp_2_20180218.txt'\n",
    "summary_df = txt_to_df(filename); print summary_df.shape"
   ]
  },
  {
   "cell_type": "markdown",
   "metadata": {},
   "source": [
    "**Import OTU abundance table**"
   ]
  },
  {
   "cell_type": "code",
   "execution_count": 4,
   "metadata": {
    "ExecuteTime": {
     "end_time": "2018-04-18T02:34:06.189788Z",
     "start_time": "2018-04-18T02:34:05.954173Z"
    }
   },
   "outputs": [
    {
     "name": "stdout",
     "output_type": "stream",
     "text": [
      "(76, 4181)\n"
     ]
    }
   ],
   "source": [
    "filename = '../generate_data/input_data/suscpetibility/otus.ygbr.day.2.txt'\n",
    "otus_df = txt_to_df(filename); print otus_df.shape\n",
    "#otus_df = otus_df.loc[:,features.index]"
   ]
  },
  {
   "cell_type": "markdown",
   "metadata": {},
   "source": [
    "**Import mapping table**"
   ]
  },
  {
   "cell_type": "code",
   "execution_count": 5,
   "metadata": {
    "ExecuteTime": {
     "end_time": "2018-04-18T02:34:06.393330Z",
     "start_time": "2018-04-18T02:34:06.380404Z"
    }
   },
   "outputs": [
    {
     "name": "stdout",
     "output_type": "stream",
     "text": [
      "(76, 1)\n"
     ]
    }
   ],
   "source": [
    "filename = '../generate_data/input_data/suscpetibility/outcomes.ygbr.day.2.txt'\n",
    "mapping_df = txt_to_df(filename); print mapping_df.shape\n",
    "mapping_df.columns = ['label']"
   ]
  },
  {
   "cell_type": "code",
   "execution_count": 6,
   "metadata": {
    "ExecuteTime": {
     "end_time": "2018-04-18T02:34:06.705969Z",
     "start_time": "2018-04-18T02:34:06.679963Z"
    }
   },
   "outputs": [
    {
     "data": {
      "text/html": [
       "<div>\n",
       "<style scoped>\n",
       "    .dataframe tbody tr th:only-of-type {\n",
       "        vertical-align: middle;\n",
       "    }\n",
       "\n",
       "    .dataframe tbody tr th {\n",
       "        vertical-align: top;\n",
       "    }\n",
       "\n",
       "    .dataframe thead th {\n",
       "        text-align: right;\n",
       "    }\n",
       "</style>\n",
       "<table border=\"1\" class=\"dataframe\">\n",
       "  <thead>\n",
       "    <tr style=\"text-align: right;\">\n",
       "      <th></th>\n",
       "      <th>label</th>\n",
       "    </tr>\n",
       "    <tr>\n",
       "      <th>#SampleID</th>\n",
       "      <th></th>\n",
       "    </tr>\n",
       "  </thead>\n",
       "  <tbody>\n",
       "    <tr>\n",
       "      <th>SMIC.003.01.Day.02</th>\n",
       "      <td>1.0</td>\n",
       "    </tr>\n",
       "    <tr>\n",
       "      <th>SMIC.004.01.Day.02</th>\n",
       "      <td>0.0</td>\n",
       "    </tr>\n",
       "    <tr>\n",
       "      <th>SMIC.005.01.Day.02</th>\n",
       "      <td>1.0</td>\n",
       "    </tr>\n",
       "    <tr>\n",
       "      <th>SMIC.006.01.Day.02</th>\n",
       "      <td>0.0</td>\n",
       "    </tr>\n",
       "    <tr>\n",
       "      <th>SMIC.006.02.Day.02</th>\n",
       "      <td>0.0</td>\n",
       "    </tr>\n",
       "  </tbody>\n",
       "</table>\n",
       "</div>"
      ],
      "text/plain": [
       "                    label\n",
       "#SampleID                \n",
       "SMIC.003.01.Day.02    1.0\n",
       "SMIC.004.01.Day.02    0.0\n",
       "SMIC.005.01.Day.02    1.0\n",
       "SMIC.006.01.Day.02    0.0\n",
       "SMIC.006.02.Day.02    0.0"
      ]
     },
     "execution_count": 6,
     "metadata": {},
     "output_type": "execute_result"
    }
   ],
   "source": [
    "mapping_df.head()"
   ]
  },
  {
   "cell_type": "markdown",
   "metadata": {
    "collapsed": true
   },
   "source": [
    "## Plot figure"
   ]
  },
  {
   "cell_type": "code",
   "execution_count": 7,
   "metadata": {
    "ExecuteTime": {
     "end_time": "2018-04-18T02:34:08.242690Z",
     "start_time": "2018-04-18T02:34:08.200278Z"
    }
   },
   "outputs": [
    {
     "data": {
      "text/html": [
       "<div>\n",
       "<style scoped>\n",
       "    .dataframe tbody tr th:only-of-type {\n",
       "        vertical-align: middle;\n",
       "    }\n",
       "\n",
       "    .dataframe tbody tr th {\n",
       "        vertical-align: top;\n",
       "    }\n",
       "\n",
       "    .dataframe thead th {\n",
       "        text-align: right;\n",
       "    }\n",
       "</style>\n",
       "<table border=\"1\" class=\"dataframe\">\n",
       "  <thead>\n",
       "    <tr style=\"text-align: right;\">\n",
       "      <th></th>\n",
       "      <th>rank</th>\n",
       "      <th>coef</th>\n",
       "      <th>abs_coef</th>\n",
       "      <th>mean</th>\n",
       "      <th>mean_0</th>\n",
       "      <th>mean_1</th>\n",
       "      <th>mlr</th>\n",
       "      <th>prev</th>\n",
       "      <th>prev_0</th>\n",
       "      <th>prev_1</th>\n",
       "      <th>...</th>\n",
       "      <th>i_coef_h</th>\n",
       "      <th>i_pvalue</th>\n",
       "      <th>kingdom</th>\n",
       "      <th>phylum</th>\n",
       "      <th>class</th>\n",
       "      <th>order</th>\n",
       "      <th>family</th>\n",
       "      <th>genus</th>\n",
       "      <th>species</th>\n",
       "      <th>otu_id</th>\n",
       "    </tr>\n",
       "    <tr>\n",
       "      <th>Feature</th>\n",
       "      <th></th>\n",
       "      <th></th>\n",
       "      <th></th>\n",
       "      <th></th>\n",
       "      <th></th>\n",
       "      <th></th>\n",
       "      <th></th>\n",
       "      <th></th>\n",
       "      <th></th>\n",
       "      <th></th>\n",
       "      <th></th>\n",
       "      <th></th>\n",
       "      <th></th>\n",
       "      <th></th>\n",
       "      <th></th>\n",
       "      <th></th>\n",
       "      <th></th>\n",
       "      <th></th>\n",
       "      <th></th>\n",
       "      <th></th>\n",
       "      <th></th>\n",
       "    </tr>\n",
       "  </thead>\n",
       "  <tbody>\n",
       "    <tr>\n",
       "      <th>k__Bacteria;p__Firmicutes;c__Bacilli;o__Lactobacillales;f__Lactobacillaceae;g__Lactobacillus;s__;otu__134726</th>\n",
       "      <td>32</td>\n",
       "      <td>-0.053718</td>\n",
       "      <td>0.053718</td>\n",
       "      <td>0.001915</td>\n",
       "      <td>0.002694</td>\n",
       "      <td>0.000004</td>\n",
       "      <td>-2.748339</td>\n",
       "      <td>0.197368</td>\n",
       "      <td>0.259259</td>\n",
       "      <td>0.045455</td>\n",
       "      <td>...</td>\n",
       "      <td>0.077921</td>\n",
       "      <td>0.092057</td>\n",
       "      <td>Bacteria</td>\n",
       "      <td>Firmicutes</td>\n",
       "      <td>Bacilli</td>\n",
       "      <td>Lactobacillales</td>\n",
       "      <td>Lactobacillaceae</td>\n",
       "      <td>Lactobacillus</td>\n",
       "      <td>NaN</td>\n",
       "      <td>134726</td>\n",
       "    </tr>\n",
       "    <tr>\n",
       "      <th>k__Bacteria;p__Bacteroidetes;c__Bacteroidia;o__Bacteroidales;f__Prevotellaceae;g__Prevotella;s__;otu__227285</th>\n",
       "      <td>34</td>\n",
       "      <td>-0.041201</td>\n",
       "      <td>0.041201</td>\n",
       "      <td>0.000461</td>\n",
       "      <td>0.000649</td>\n",
       "      <td>0.000000</td>\n",
       "      <td>-2.812781</td>\n",
       "      <td>0.131579</td>\n",
       "      <td>0.185185</td>\n",
       "      <td>0.000000</td>\n",
       "      <td>...</td>\n",
       "      <td>0.078156</td>\n",
       "      <td>0.090789</td>\n",
       "      <td>Bacteria</td>\n",
       "      <td>Bacteroidetes</td>\n",
       "      <td>Bacteroidia</td>\n",
       "      <td>Bacteroidales</td>\n",
       "      <td>Prevotellaceae</td>\n",
       "      <td>Prevotella</td>\n",
       "      <td>NaN</td>\n",
       "      <td>227285</td>\n",
       "    </tr>\n",
       "  </tbody>\n",
       "</table>\n",
       "<p>2 rows × 23 columns</p>\n",
       "</div>"
      ],
      "text/plain": [
       "                                                    rank      coef  abs_coef  \\\n",
       "Feature                                                                        \n",
       "k__Bacteria;p__Firmicutes;c__Bacilli;o__Lactoba...    32 -0.053718  0.053718   \n",
       "k__Bacteria;p__Bacteroidetes;c__Bacteroidia;o__...    34 -0.041201  0.041201   \n",
       "\n",
       "                                                        mean    mean_0  \\\n",
       "Feature                                                                  \n",
       "k__Bacteria;p__Firmicutes;c__Bacilli;o__Lactoba...  0.001915  0.002694   \n",
       "k__Bacteria;p__Bacteroidetes;c__Bacteroidia;o__...  0.000461  0.000649   \n",
       "\n",
       "                                                      mean_1       mlr  \\\n",
       "Feature                                                                  \n",
       "k__Bacteria;p__Firmicutes;c__Bacilli;o__Lactoba...  0.000004 -2.748339   \n",
       "k__Bacteria;p__Bacteroidetes;c__Bacteroidia;o__...  0.000000 -2.812781   \n",
       "\n",
       "                                                        prev    prev_0  \\\n",
       "Feature                                                                  \n",
       "k__Bacteria;p__Firmicutes;c__Bacilli;o__Lactoba...  0.197368  0.259259   \n",
       "k__Bacteria;p__Bacteroidetes;c__Bacteroidia;o__...  0.131579  0.185185   \n",
       "\n",
       "                                                      prev_1   ...    \\\n",
       "Feature                                                        ...     \n",
       "k__Bacteria;p__Firmicutes;c__Bacilli;o__Lactoba...  0.045455   ...     \n",
       "k__Bacteria;p__Bacteroidetes;c__Bacteroidia;o__...  0.000000   ...     \n",
       "\n",
       "                                                    i_coef_h  i_pvalue  \\\n",
       "Feature                                                                  \n",
       "k__Bacteria;p__Firmicutes;c__Bacilli;o__Lactoba...  0.077921  0.092057   \n",
       "k__Bacteria;p__Bacteroidetes;c__Bacteroidia;o__...  0.078156  0.090789   \n",
       "\n",
       "                                                     kingdom         phylum  \\\n",
       "Feature                                                                       \n",
       "k__Bacteria;p__Firmicutes;c__Bacilli;o__Lactoba...  Bacteria     Firmicutes   \n",
       "k__Bacteria;p__Bacteroidetes;c__Bacteroidia;o__...  Bacteria  Bacteroidetes   \n",
       "\n",
       "                                                          class  \\\n",
       "Feature                                                           \n",
       "k__Bacteria;p__Firmicutes;c__Bacilli;o__Lactoba...      Bacilli   \n",
       "k__Bacteria;p__Bacteroidetes;c__Bacteroidia;o__...  Bacteroidia   \n",
       "\n",
       "                                                              order  \\\n",
       "Feature                                                               \n",
       "k__Bacteria;p__Firmicutes;c__Bacilli;o__Lactoba...  Lactobacillales   \n",
       "k__Bacteria;p__Bacteroidetes;c__Bacteroidia;o__...    Bacteroidales   \n",
       "\n",
       "                                                              family  \\\n",
       "Feature                                                                \n",
       "k__Bacteria;p__Firmicutes;c__Bacilli;o__Lactoba...  Lactobacillaceae   \n",
       "k__Bacteria;p__Bacteroidetes;c__Bacteroidia;o__...    Prevotellaceae   \n",
       "\n",
       "                                                            genus species  \\\n",
       "Feature                                                                     \n",
       "k__Bacteria;p__Firmicutes;c__Bacilli;o__Lactoba...  Lactobacillus     NaN   \n",
       "k__Bacteria;p__Bacteroidetes;c__Bacteroidia;o__...     Prevotella     NaN   \n",
       "\n",
       "                                                    otu_id  \n",
       "Feature                                                     \n",
       "k__Bacteria;p__Firmicutes;c__Bacilli;o__Lactoba...  134726  \n",
       "k__Bacteria;p__Bacteroidetes;c__Bacteroidia;o__...  227285  \n",
       "\n",
       "[2 rows x 23 columns]"
      ]
     },
     "execution_count": 7,
     "metadata": {},
     "output_type": "execute_result"
    }
   ],
   "source": [
    "summary_df[summary_df.loc[:,'mlr']<-2]"
   ]
  },
  {
   "cell_type": "code",
   "execution_count": 14,
   "metadata": {
    "ExecuteTime": {
     "end_time": "2018-04-17T20:08:16.766603Z",
     "start_time": "2018-04-17T20:08:14.009199Z"
    },
    "code_folding": []
   },
   "outputs": [
    {
     "name": "stdout",
     "output_type": "stream",
     "text": [
      "\n"
     ]
    },
    {
     "data": {
      "image/png": "[encoded data removed]",
      "text/plain": [
       "<matplotlib.figure.Figure at 0x11ace8150>"
      ]
     },
     "metadata": {},
     "output_type": "display_data"
    }
   ],
   "source": [
    "sns.set_style('whitegrid')\n",
    "\n",
    "fig = plt.figure(figsize=[16,9.5])\n",
    "\n",
    "gs = gridspec.GridSpec(4,12)\n",
    "\n",
    "ax = plt.subplot(gs[:,0:6])\n",
    "\n",
    "taxonomy_keys = ['kingdom','phylum','class','order','family','genus','species','otu_id']\n",
    "\n",
    "xy = summary_df.loc[:,['plr','mlr']]\n",
    "\n",
    "x = xy['plr']\n",
    "y = xy['mlr']\n",
    "\n",
    "c = [(1,0,0,0.65) if ii else (0,0,1,0.6) for ii in (summary_df.coef>0).values]\n",
    "\n",
    "ax.scatter(x,y,s=140,zorder=5,\n",
    "           color=c,edgecolor='black',lw=0.8)\n",
    "\n",
    "ax.set_xlim([-1.2,1.2])\n",
    "ax.set_ylim([-3.0,3.0])\n",
    "\n",
    "ax.set_xlabel('\\nPrevalence Log-Ratio',fontsize=16)\n",
    "ax.set_ylabel('Mean Relative Abundance Log-Ratio\\n',fontsize=16)\n",
    "\n",
    "[ii.set(fontsize=16) for ii in ax.get_xticklabels()+ax.get_yticklabels()];\n",
    "\n",
    "## highlight select OTUs\n",
    "\n",
    "insets = xy.join(summary_df.loc[:,taxonomy_keys])\n",
    "insets = insets[insets.loc[:,'mlr'].abs()>1.8].sort_values(['mlr'])\n",
    "  \n",
    "sub = insets.iloc[0,:]; pointOutOTU(ax,sub['otu_id'],sub[['plr','mlr']],[0.1,-2.25],\"left\")\n",
    "sub = insets.iloc[1,:]; pointOutOTU(ax,sub['otu_id'],sub[['plr','mlr']],[0.1,-2.75],\"left\")\n",
    "sub = insets.iloc[2,:]; pointOutOTU(ax,sub['otu_id'],sub[['plr','mlr']],[0.1,2.25],\"left\")\n",
    "sub = insets.iloc[3,:]; pointOutOTU(ax,sub['otu_id'],sub[['plr','mlr']],[0.1,2.75],\"left\")\n",
    "\n",
    "#### Prevalence plots\n",
    "\n",
    "for row,idx in enumerate(insets.sort_values(['mlr'],ascending=False).index):\n",
    "\n",
    "    ax = plt.subplot(gs[row,6:9])\n",
    "    \n",
    "    prev_0 = summary_df.loc[idx,'prev_0']\n",
    "    prev_1 = summary_df.loc[idx,'prev_1']\n",
    "\n",
    "    ax.barh(0.20,width=1,left=0,height=0.3,color=(1,1,1,0.65),edgecolor='black',lw=2,align='edge')\n",
    "    ax.barh(0.50,width=1,left=0,height=0.3,color=(1,1,1,0.65),edgecolor='black',lw=2,align='edge')\n",
    "\n",
    "    ax.barh(0.20,width=prev_0,left=0,height=0.3,color=(0,0,1,0.65),align='edge')\n",
    "    ax.barh(0.50,width=prev_1,left=0,height=0.3,color=(1,0,0,0.65),align='edge')\n",
    "\n",
    "    ax.set_xlim([0,1.0])\n",
    "    ax.set_ylim([0,1.0])\n",
    "\n",
    "    ax.yaxis.grid(False)\n",
    "\n",
    "    [ax.spines[sp].set_visible(False) for sp in []]\n",
    "\n",
    "    [ii.set(fontsize=16) for ii in ax.get_xticklabels()+ax.get_yticklabels()]\n",
    "\n",
    "    if row==3:\n",
    "        plt.setp(ax,xticks=[0,0.2,0.4,0.6,0.8,1.0],xticklabels=['0','20','40','60','80','100'])\n",
    "    else:\n",
    "        plt.setp(ax,xticks=[0,0.2,0.4,0.6,0.8,1.0],xticklabels=[])\n",
    "               \n",
    "    plt.setp(ax,yticks=[],yticklabels=[])\n",
    "\n",
    "ax.set_xlabel('\\nPrevalence (%)',fontsize=16)\n",
    "\n",
    "### Relative Abundance\n",
    "\n",
    "for row,idx in enumerate(insets.sort_values(['mlr'],ascending=False).index):\n",
    "    \n",
    "    ax = plt.subplot(gs[row,9:12])\n",
    "    \n",
    "    mean_0 = summary_df.loc[idx,'mean_0']\n",
    "    mean_1 = summary_df.loc[idx,'mean_1']\n",
    "\n",
    "    ax.barh(0.20,width=1,left=1e-6,height=0.30,color=(1,1,1,0.65),edgecolor='black',lw=2,align='edge')\n",
    "    ax.barh(0.50,width=1,left=1e-6,height=0.30,color=(1,1,1,0.65),edgecolor='black',lw=2,align='edge')\n",
    "\n",
    "    ax.barh(0.20,width=mean_0,left=1e-6,height=0.30,color=(0,0,1,0.65),align='edge')\n",
    "    ax.barh(0.50,width=mean_1,left=1e-6,height=0.30,color=(1,0,0,0.65),align='edge')\n",
    "\n",
    "    ax.set_xscale('log')\n",
    "\n",
    "    ax.yaxis.grid(False)\n",
    "\n",
    "    [ii.set(fontsize=16) for ii in ax.get_xticklabels()+ax.get_yticklabels()]\n",
    "    \n",
    "    if row==3:\n",
    "        print\n",
    "        #pplt.setp(ax,xticks=ax.get_xticks(),xticklabels=ax.get_xticklabels())\n",
    "        plt.setp(ax,\n",
    "                 xticks=[10**-6,10**-5,10**-4,10**-3,10**-2,10**-1,10**0],\n",
    "                 xticklabels=['$\\\\mathdefault{10^{-6}}$','',\n",
    "                              '$\\\\mathdefault{10^{-4}}$','',\n",
    "                              '$\\\\mathdefault{10^{-2}}$','',\n",
    "                              '$\\\\mathdefault{10^{0}}$'])\n",
    "    else:\n",
    "        plt.setp(ax,\n",
    "                 xticks=[10**-6,10**-5,10**-4,10**-3,10**-2,10**-1,10**0],\n",
    "                 xticklabels=[])\n",
    "\n",
    "    plt.setp(ax,yticks=[],yticklabels=[])\n",
    "\n",
    "    ax.set_xlim([10**-6,10**0])\n",
    "    ax.set_ylim([0,1.0])\n",
    "\n",
    "\n",
    "for row,idx in enumerate(insets.sort_values(['mlr'],ascending=False).index):\n",
    "\n",
    "    ax = plt.subplot(gs[row,9:12])\n",
    "\n",
    "    g0 = mapping_df[mapping_df.label==0].index\n",
    "    g1 = mapping_df[mapping_df.label==1].index\n",
    "    \n",
    "    a0 = (otus_df.loc[g0,idx]+1e-6).values\n",
    "    a1 = (otus_df.loc[g1,idx]+1e-6).values\n",
    "\n",
    "    lower,upper = 0.20,0.50\n",
    "    mu,sigma =0.35,0.025\n",
    "    X = stats.truncnorm((lower - mu) / sigma, (upper - mu) / sigma, loc=mu, scale=sigma)\n",
    "    y0_jitters= stats.norm(loc=mu, scale=sigma).rvs(len(a0))\n",
    "\n",
    "    lower,upper = 0.50,0.80\n",
    "    mu,sigma =0.65,0.02\n",
    "    X = stats.truncnorm((lower - mu) / sigma, (upper - mu) / sigma, loc=mu, scale=sigma)\n",
    "    y1_jitters= stats.norm(loc=mu, scale=sigma).rvs(len(a1))\n",
    "    \n",
    "    ax.scatter(a0,y0_jitters,s=50,color=(1,1,1,1),edgecolor='black',lw=0.8,zorder=10)\n",
    "    ax.scatter(a1,y1_jitters,s=50,color=(1,1,1,1),edgecolor='black',lw=0.8,zorder=10)\n",
    "\n",
    "\n",
    "ax.set_xlabel('Mean Relative Abundance\\n(log-scale)',fontsize=16)\n",
    "\n",
    "plt.subplots_adjust(wspace=20,hspace=0.6)\n",
    "plt.savefig('./figs/midani_supp_figure_4_effect_sizes.pdf',filetype='pdf')"
   ]
  },
  {
   "cell_type": "markdown",
   "metadata": {
    "collapsed": true
   },
   "source": [
    "**Downstream annotations (labels and titles) were added in Adobe Illustrator**"
   ]
  }
 ],
 "metadata": {
  "hide_input": false,
  "kernelspec": {
   "display_name": "Python 2",
   "language": "python",
   "name": "python2"
  },
  "language_info": {
   "codemirror_mode": {
    "name": "ipython",
    "version": 2
   },
   "file_extension": ".py",
   "mimetype": "text/x-python",
   "name": "python",
   "nbconvert_exporter": "python",
   "pygments_lexer": "ipython2",
   "version": "2.7.13"
  },
  "toc": {
   "nav_menu": {},
   "number_sections": true,
   "sideBar": true,
   "skip_h1_title": false,
   "toc_cell": false,
   "toc_position": {},
   "toc_section_display": "block",
   "toc_window_display": false
  }
 },
 "nbformat": 4,
 "nbformat_minor": 2
}
